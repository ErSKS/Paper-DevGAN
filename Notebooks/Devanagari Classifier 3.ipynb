{
 "cells": [
  {
   "cell_type": "code",
   "execution_count": 1,
   "metadata": {},
   "outputs": [],
   "source": [
    "from tensorflow.keras.models import Sequential\n",
    "from tensorflow.keras.layers import Dense, Dropout, Activation, Flatten\n",
    "from tensorflow.keras.layers import Conv2D, MaxPooling2D, BatchNormalization\n",
    "from tensorflow.keras.preprocessing.image import ImageDataGenerator\n",
    "from tensorflow.keras.optimizers import RMSprop\n",
    "from tensorflow.keras.callbacks import ModelCheckpoint, EarlyStopping, ReduceLROnPlateau\n",
    "from tensorflow.keras.callbacks import TensorBoard\n",
    "from tensorflow.keras.models import load_model\n",
    "from sklearn.metrics import classification_report, confusion_matrix\n",
    "import matplotlib.pyplot as plt\n",
    "import numpy as np\n",
    "import os"
   ]
  },
  {
   "cell_type": "code",
   "execution_count": 2,
   "metadata": {},
   "outputs": [
    {
     "data": {
      "text/plain": [
       "'/home/amogh/Documents/Study/MLDL/characters'"
      ]
     },
     "execution_count": 2,
     "metadata": {},
     "output_type": "execute_result"
    }
   ],
   "source": [
    "DATA_DIR = os.getcwd() + \"/characters\"\n",
    "DATA_DIR"
   ]
  },
  {
   "cell_type": "code",
   "execution_count": 3,
   "metadata": {},
   "outputs": [],
   "source": [
    "num_classes = 10\n",
    "image_dimension = 32\n",
    "batch_size = 64\n",
    "nb_train_samples = 16000\n",
    "nb_validation_samples = 4000\n",
    "epochs = 20"
   ]
  },
  {
   "cell_type": "code",
   "execution_count": 4,
   "metadata": {},
   "outputs": [],
   "source": [
    "simple_datagen = ImageDataGenerator(rescale=1./255, validation_split=0.2)"
   ]
  },
  {
   "cell_type": "code",
   "execution_count": 5,
   "metadata": {},
   "outputs": [
    {
     "name": "stdout",
     "output_type": "stream",
     "text": [
      "Found 16000 images belonging to 10 classes.\n",
      "Found 4000 images belonging to 10 classes.\n"
     ]
    }
   ],
   "source": [
    "train_generator = simple_datagen.flow_from_directory(\n",
    "    DATA_DIR,\n",
    "    target_size=(image_dimension, image_dimension),\n",
    "    batch_size=batch_size,\n",
    "    class_mode='categorical',\n",
    "    shuffle=True, subset=\"training\")\n",
    "\n",
    "valid_generator = simple_datagen.flow_from_directory(\n",
    "    DATA_DIR,\n",
    "    target_size=(image_dimension, image_dimension),\n",
    "    batch_size=batch_size,\n",
    "    class_mode='categorical',\n",
    "    shuffle=False, subset=\"validation\")"
   ]
  },
  {
   "cell_type": "code",
   "execution_count": 6,
   "metadata": {},
   "outputs": [
    {
     "name": "stdout",
     "output_type": "stream",
     "text": [
      "Model: \"sequential\"\n",
      "_________________________________________________________________\n",
      "Layer (type)                 Output Shape              Param #   \n",
      "=================================================================\n",
      "conv2d (Conv2D)              (None, 32, 32, 64)        1792      \n",
      "_________________________________________________________________\n",
      "batch_normalization (BatchNo (None, 32, 32, 64)        256       \n",
      "_________________________________________________________________\n",
      "conv2d_1 (Conv2D)            (None, 32, 32, 64)        36928     \n",
      "_________________________________________________________________\n",
      "batch_normalization_1 (Batch (None, 32, 32, 64)        256       \n",
      "_________________________________________________________________\n",
      "max_pooling2d (MaxPooling2D) (None, 16, 16, 64)        0         \n",
      "_________________________________________________________________\n",
      "dropout (Dropout)            (None, 16, 16, 64)        0         \n",
      "_________________________________________________________________\n",
      "conv2d_2 (Conv2D)            (None, 16, 16, 128)       73856     \n",
      "_________________________________________________________________\n",
      "batch_normalization_2 (Batch (None, 16, 16, 128)       512       \n",
      "_________________________________________________________________\n",
      "conv2d_3 (Conv2D)            (None, 16, 16, 128)       147584    \n",
      "_________________________________________________________________\n",
      "batch_normalization_3 (Batch (None, 16, 16, 128)       512       \n",
      "_________________________________________________________________\n",
      "max_pooling2d_1 (MaxPooling2 (None, 8, 8, 128)         0         \n",
      "_________________________________________________________________\n",
      "dropout_1 (Dropout)          (None, 8, 8, 128)         0         \n",
      "_________________________________________________________________\n",
      "conv2d_4 (Conv2D)            (None, 8, 8, 256)         295168    \n",
      "_________________________________________________________________\n",
      "batch_normalization_4 (Batch (None, 8, 8, 256)         1024      \n",
      "_________________________________________________________________\n",
      "conv2d_5 (Conv2D)            (None, 8, 8, 256)         590080    \n",
      "_________________________________________________________________\n",
      "batch_normalization_5 (Batch (None, 8, 8, 256)         1024      \n",
      "_________________________________________________________________\n",
      "max_pooling2d_2 (MaxPooling2 (None, 4, 4, 256)         0         \n",
      "_________________________________________________________________\n",
      "dropout_2 (Dropout)          (None, 4, 4, 256)         0         \n",
      "_________________________________________________________________\n",
      "flatten (Flatten)            (None, 4096)              0         \n",
      "_________________________________________________________________\n",
      "dense (Dense)                (None, 256)               1048832   \n",
      "_________________________________________________________________\n",
      "batch_normalization_6 (Batch (None, 256)               1024      \n",
      "_________________________________________________________________\n",
      "dropout_3 (Dropout)          (None, 256)               0         \n",
      "_________________________________________________________________\n",
      "dense_1 (Dense)              (None, 256)               65792     \n",
      "_________________________________________________________________\n",
      "batch_normalization_7 (Batch (None, 256)               1024      \n",
      "_________________________________________________________________\n",
      "dropout_4 (Dropout)          (None, 256)               0         \n",
      "_________________________________________________________________\n",
      "dense_2 (Dense)              (None, 10)                2570      \n",
      "=================================================================\n",
      "Total params: 2,268,234\n",
      "Trainable params: 2,265,418\n",
      "Non-trainable params: 2,816\n",
      "_________________________________________________________________\n"
     ]
    }
   ],
   "source": [
    "model = Sequential()\n",
    "\n",
    "model.add(Conv2D(64, (3, 3), padding='same', input_shape=(\n",
    "    image_dimension, image_dimension, 3), activation='relu'))\n",
    "model.add(BatchNormalization())\n",
    "\n",
    "model.add(Conv2D(64, (3, 3), padding='same', activation='relu'))\n",
    "model.add(BatchNormalization())\n",
    "\n",
    "model.add(MaxPooling2D(pool_size=(2, 2)))\n",
    "model.add(Dropout(0.25))\n",
    "\n",
    "model.add(Conv2D(128, (3, 3), padding='same', activation='relu'))\n",
    "model.add(BatchNormalization())\n",
    "\n",
    "model.add(Conv2D(128, (3, 3), padding='same', activation='relu'))\n",
    "model.add(BatchNormalization())\n",
    "\n",
    "model.add(MaxPooling2D(pool_size=(2, 2)))\n",
    "model.add(Dropout(0.25))\n",
    "\n",
    "model.add(Conv2D(256, (3, 3), padding='same', activation='relu'))\n",
    "model.add(BatchNormalization())\n",
    "\n",
    "model.add(Conv2D(256, (3, 3), padding='same', activation='relu'))\n",
    "model.add(BatchNormalization())\n",
    "\n",
    "model.add(MaxPooling2D(pool_size=(2, 2)))\n",
    "model.add(Dropout(0.25))\n",
    "\n",
    "model.add(Flatten())\n",
    "model.add(Dense(256, activation='relu'))\n",
    "model.add(BatchNormalization())\n",
    "model.add(Dropout(0.5))\n",
    "\n",
    "model.add(Dense(256, activation='relu'))\n",
    "model.add(BatchNormalization())\n",
    "model.add(Dropout(0.5))\n",
    "\n",
    "model.add(Dense(num_classes, activation='softmax'))\n",
    "\n",
    "model.summary()"
   ]
  },
  {
   "cell_type": "code",
   "execution_count": 7,
   "metadata": {},
   "outputs": [],
   "source": [
    "try:\n",
    "    os.mkdir(\"devanagari_classifier\")\n",
    "except:\n",
    "    pass\n",
    "\n",
    "checkpoint = ModelCheckpoint(os.getcwd() + \"/devanagari_classifier/devanagari_cnn_1.h5\",\n",
    "                             monitor=\"val_loss\",\n",
    "                             mode=\"min\",\n",
    "                             save_best_only=True,\n",
    "                             verbose=1)\n",
    "\n",
    "earlystop = EarlyStopping(monitor='val_loss',\n",
    "                          min_delta=0,\n",
    "                          patience=5,\n",
    "                          verbose=1,\n",
    "                          restore_best_weights=True)\n",
    "\n",
    "try:\n",
    "    os.mkdir(\"devanagari_classifier/log_dir\")\n",
    "except:\n",
    "    pass\n",
    "\n",
    "tensorboard_callback = TensorBoard(\n",
    "    log_dir='%s/devanagari_classifier/log_dir/devanagari_cnn_1' % os.getcwd(), histogram_freq=1)\n",
    "\n",
    "callbacks = [earlystop, checkpoint, tensorboard_callback]\n",
    "\n",
    "model.compile(loss='categorical_crossentropy',\n",
    "              optimizer=RMSprop(lr=0.001),\n",
    "              metrics=['accuracy'])"
   ]
  },
  {
   "cell_type": "code",
   "execution_count": 8,
   "metadata": {},
   "outputs": [
    {
     "name": "stdout",
     "output_type": "stream",
     "text": [
      "Epoch 1/20\n",
      "249/250 [============================>.] - ETA: 0s - loss: 0.3475 - accuracy: 0.8946\n",
      "Epoch 00001: val_loss improved from inf to 4.21491, saving model to /home/amogh/Documents/Study/MLDL/devanagari_classifier/devanagari_cnn_1.h5\n",
      "250/250 [==============================] - 31s 123ms/step - loss: 0.3473 - accuracy: 0.8946 - val_loss: 4.2149 - val_accuracy: 0.2888\n",
      "Epoch 2/20\n",
      "249/250 [============================>.] - ETA: 0s - loss: 0.0607 - accuracy: 0.9814\n",
      "Epoch 00002: val_loss improved from 4.21491 to 0.19056, saving model to /home/amogh/Documents/Study/MLDL/devanagari_classifier/devanagari_cnn_1.h5\n",
      "250/250 [==============================] - 29s 118ms/step - loss: 0.0605 - accuracy: 0.9815 - val_loss: 0.1906 - val_accuracy: 0.9536\n",
      "Epoch 3/20\n",
      "249/250 [============================>.] - ETA: 0s - loss: 0.0388 - accuracy: 0.9883\n",
      "Epoch 00003: val_loss improved from 0.19056 to 0.08904, saving model to /home/amogh/Documents/Study/MLDL/devanagari_classifier/devanagari_cnn_1.h5\n",
      "250/250 [==============================] - 30s 118ms/step - loss: 0.0387 - accuracy: 0.9884 - val_loss: 0.0890 - val_accuracy: 0.9725\n",
      "Epoch 4/20\n",
      "249/250 [============================>.] - ETA: 0s - loss: 0.0253 - accuracy: 0.9921\n",
      "Epoch 00004: val_loss did not improve from 0.08904\n",
      "250/250 [==============================] - 30s 118ms/step - loss: 0.0253 - accuracy: 0.9921 - val_loss: 0.1877 - val_accuracy: 0.9584\n",
      "Epoch 5/20\n",
      "249/250 [============================>.] - ETA: 0s - loss: 0.0217 - accuracy: 0.9937\n",
      "Epoch 00005: val_loss did not improve from 0.08904\n",
      "250/250 [==============================] - 29s 118ms/step - loss: 0.0216 - accuracy: 0.9937 - val_loss: 0.1222 - val_accuracy: 0.9751\n",
      "Epoch 6/20\n",
      "249/250 [============================>.] - ETA: 0s - loss: 0.0155 - accuracy: 0.9957\n",
      "Epoch 00006: val_loss did not improve from 0.08904\n",
      "250/250 [==============================] - 29s 117ms/step - loss: 0.0155 - accuracy: 0.9957 - val_loss: 0.1942 - val_accuracy: 0.9667\n",
      "Epoch 7/20\n",
      "249/250 [============================>.] - ETA: 0s - loss: 0.0138 - accuracy: 0.9963\n",
      "Epoch 00007: val_loss did not improve from 0.08904\n",
      "250/250 [==============================] - 30s 118ms/step - loss: 0.0137 - accuracy: 0.9963 - val_loss: 0.1317 - val_accuracy: 0.9725\n",
      "Epoch 8/20\n",
      "249/250 [============================>.] - ETA: 0s - loss: 0.0106 - accuracy: 0.9964Restoring model weights from the end of the best epoch.\n",
      "\n",
      "Epoch 00008: val_loss did not improve from 0.08904\n",
      "250/250 [==============================] - 29s 118ms/step - loss: 0.0106 - accuracy: 0.9964 - val_loss: 0.1006 - val_accuracy: 0.9808\n",
      "Epoch 00008: early stopping\n"
     ]
    }
   ],
   "source": [
    "history = model.fit_generator(\n",
    "    train_generator,\n",
    "    steps_per_epoch=nb_train_samples // batch_size,\n",
    "    epochs=epochs,\n",
    "    callbacks=callbacks,\n",
    "    validation_data=valid_generator,\n",
    "    validation_steps=nb_validation_samples // batch_size)"
   ]
  },
  {
   "cell_type": "code",
   "execution_count": 9,
   "metadata": {},
   "outputs": [
    {
     "data": {
      "image/png": "[encoded data removed]",
      "text/plain": [
       "<Figure size 432x288 with 1 Axes>"
      ]
     },
     "metadata": {
      "needs_background": "light"
     },
     "output_type": "display_data"
    }
   ],
   "source": [
    "plt.plot(history.history['accuracy'])\n",
    "plt.plot(history.history['val_accuracy'])\n",
    "plt.title('model accuracy')\n",
    "plt.ylabel('accuracy')\n",
    "plt.xlabel('epoch')\n",
    "plt.legend(['train', 'test'], loc='upper left')\n",
    "plt.show()"
   ]
  },
  {
   "cell_type": "code",
   "execution_count": 10,
   "metadata": {},
   "outputs": [
    {
     "data": {
      "image/png": "[encoded data removed]",
      "text/plain": [
       "<Figure size 432x288 with 1 Axes>"
      ]
     },
     "metadata": {
      "needs_background": "light"
     },
     "output_type": "display_data"
    }
   ],
   "source": [
    "plt.plot(history.history['loss'])\n",
    "plt.plot(history.history['val_loss'])\n",
    "plt.title('model loss')\n",
    "plt.ylabel('loss')\n",
    "plt.xlabel('epoch')\n",
    "plt.legend(['train', 'test'], loc='upper left')\n",
    "plt.show()"
   ]
  },
  {
   "cell_type": "code",
   "execution_count": 11,
   "metadata": {},
   "outputs": [
    {
     "name": "stdout",
     "output_type": "stream",
     "text": [
      "Confusion Matrix\n",
      "[[397   0   0   1   1   0   0   0   1   0]\n",
      " [  0 388   0   0   0   0   0  12   0   0]\n",
      " [  0   0 392   3   1   0   1   0   0   3]\n",
      " [  0   0   1 399   0   0   0   0   0   0]\n",
      " [  0   0   0   0 400   0   0   0   0   0]\n",
      " [  0   3   0   0   0 394   0   3   0   0]\n",
      " [  0   0   0   4   0   0 389   0   7   0]\n",
      " [  0   6   0   4   2   9   3 367   0   9]\n",
      " [  2   3   0   0   9   0   1   3 381   1]\n",
      " [  0   0  11   0   5   0   0   0   0 384]]\n",
      "Classification Report\n",
      "                       precision    recall  f1-score   support\n",
      "\n",
      "      character_01_ka       0.99      0.99      0.99       400\n",
      "     character_06_cha       0.97      0.97      0.97       400\n",
      "character_11_taamatar       0.97      0.98      0.98       400\n",
      "    character_12_thaa       0.97      1.00      0.98       400\n",
      "     character_13_daa       0.96      1.00      0.98       400\n",
      "    character_15_adna       0.98      0.98      0.98       400\n",
      "  character_16_tabala       0.99      0.97      0.98       400\n",
      "      character_21_pa       0.95      0.92      0.94       400\n",
      "      character_23_ba       0.98      0.95      0.97       400\n",
      "      character_27_ra       0.97      0.96      0.96       400\n",
      "\n",
      "             accuracy                           0.97      4000\n",
      "            macro avg       0.97      0.97      0.97      4000\n",
      "         weighted avg       0.97      0.97      0.97      4000\n",
      "\n"
     ]
    }
   ],
   "source": [
    "loaded_model = load_model(\n",
    "    os.getcwd() + \"/devanagari_classifier/devanagari_cnn_1.h5\")\n",
    "\n",
    "# Confution Matrix and Classification Report\n",
    "Y_pred = loaded_model.predict_generator(\n",
    "    valid_generator, nb_validation_samples // batch_size+1)\n",
    "y_pred = np.argmax(Y_pred, axis=1)\n",
    "\n",
    "class_labels = {v: k for k, v in valid_generator.class_indices.items()}\n",
    "\n",
    "print('Confusion Matrix')\n",
    "print(confusion_matrix(valid_generator.classes, y_pred))\n",
    "\n",
    "print('Classification Report')\n",
    "target_names = list(class_labels.values())\n",
    "print(classification_report(valid_generator.classes,\n",
    "                            y_pred, target_names=target_names))"
   ]
  },
  {
   "cell_type": "code",
   "execution_count": 12,
   "metadata": {},
   "outputs": [
    {
     "data": {
      "image/png": "[encoded data removed]",
      "text/plain": [
       "<Figure size 1440x1440 with 2 Axes>"
      ]
     },
     "metadata": {
      "needs_background": "light"
     },
     "output_type": "display_data"
    }
   ],
   "source": [
    "plt.figure(figsize=(20, 20))\n",
    "cnf_matrix = confusion_matrix(valid_generator.classes, y_pred)\n",
    "plt.imshow(cnf_matrix, interpolation='nearest', cmap=\"magma\")\n",
    "plt.colorbar()\n",
    "\n",
    "classes = list(class_labels.values())\n",
    "\n",
    "tick_marks = np.arange(len(classes))\n",
    "_ = plt.xticks(tick_marks, classes, rotation=90)\n",
    "_ = plt.yticks(tick_marks, classes)"
   ]
  },
  {
   "cell_type": "code",
   "execution_count": 13,
   "metadata": {},
   "outputs": [],
   "source": [
    "loaded_model = load_model(\n",
    "    os.getcwd() + \"/devanagari_classifier/devanagari_cnn_1.h5\")"
   ]
  },
  {
   "cell_type": "code",
   "execution_count": 14,
   "metadata": {},
   "outputs": [
    {
     "data": {
      "text/plain": [
       "<matplotlib.image.AxesImage at 0x7f0d11695690>"
      ]
     },
     "execution_count": 14,
     "metadata": {},
     "output_type": "execute_result"
    },
    {
     "data": {
      "image/png": "[encoded data removed]",
      "text/plain": [
       "<Figure size 432x288 with 1 Axes>"
      ]
     },
     "metadata": {
      "needs_background": "light"
     },
     "output_type": "display_data"
    }
   ],
   "source": [
    "TEST_IMAGE = os.getcwd() + \"/devanagari_classifier/testing_new/character_01_ka/0.png\"\n",
    "test = plt.imread(TEST_IMAGE)\n",
    "plt.imshow(test, cmap='gray_r')"
   ]
  },
  {
   "cell_type": "code",
   "execution_count": 15,
   "metadata": {},
   "outputs": [],
   "source": [
    "EVAL_DIR = os.getcwd() + \"/devanagari_classifier/testing_new/\""
   ]
  },
  {
   "cell_type": "code",
   "execution_count": 16,
   "metadata": {},
   "outputs": [
    {
     "name": "stdout",
     "output_type": "stream",
     "text": [
      "Found 1000 images belonging to 10 classes.\n"
     ]
    }
   ],
   "source": [
    "eval_generator = simple_datagen.flow_from_directory(\n",
    "    EVAL_DIR,\n",
    "    target_size=(image_dimension, image_dimension),\n",
    "    batch_size=batch_size,\n",
    "    class_mode='categorical',\n",
    "    shuffle=False)"
   ]
  },
  {
   "cell_type": "code",
   "execution_count": 17,
   "metadata": {},
   "outputs": [
    {
     "name": "stdout",
     "output_type": "stream",
     "text": [
      "16/16 [==============================] - 2s 97ms/step - loss: 1.2778 - accuracy: 0.8660\n"
     ]
    },
    {
     "data": {
      "text/plain": [
       "[1.277779778582044, 0.866]"
      ]
     },
     "execution_count": 17,
     "metadata": {},
     "output_type": "execute_result"
    }
   ],
   "source": [
    "loaded_model.evaluate(eval_generator)"
   ]
  }
 ],
 "metadata": {
  "kernelspec": {
   "display_name": "Python 3",
   "language": "python",
   "name": "python3"
  },
  "language_info": {
   "codemirror_mode": {
    "name": "ipython",
    "version": 3
   },
   "file_extension": ".py",
   "mimetype": "text/x-python",
   "name": "python",
   "nbconvert_exporter": "python",
   "pygments_lexer": "ipython3",
   "version": "3.7.7"
  }
 },
 "nbformat": 4,
 "nbformat_minor": 4
}
